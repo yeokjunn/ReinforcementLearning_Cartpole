{
 "cells": [
  {
   "cell_type": "markdown",
   "metadata": {
    "colab_type": "text",
    "id": "view-in-github"
   },
   "source": [
    "<a href=\"https://colab.research.google.com/github/yue-zhongqi/cartpole_colab/blob/main/cartpole.ipynb\" target=\"_parent\"><img src=\"https://colab.research.google.com/assets/colab-badge.svg\" alt=\"Open In Colab\"/></a>"
   ]
  },
  {
   "cell_type": "markdown",
   "metadata": {
    "id": "ZauhjPSfX7pI"
   },
   "source": [
    "# Q-Learning Agent for CartPole Environment"
   ]
  },
  {
   "cell_type": "markdown",
   "metadata": {},
   "source": [
    "### 24/25 S2, Assignment 1"
   ]
  },
  {
   "cell_type": "markdown",
   "metadata": {},
   "source": [
    "Completed By:\n",
    "- Yeo Ke Jun (U2322646E), Individual Contribution"
   ]
  },
  {
   "cell_type": "markdown",
   "metadata": {},
   "source": [
    "<div style=\"background-color: lightblue; color: white; padding: 10px; text-align: left; border-radius: 5px;\">\n",
    "    \n",
    "</div>"
   ]
  },
  {
   "cell_type": "markdown",
   "metadata": {},
   "source": [
    "## Project Overview\n",
    "\n",
    "This notebook implements a **Q-Learning** and **Policy Gradient agent** to solve the CartPole balancing problem from OpenAI Gym/Gymnasium. The CartPole problem is a classic reinforcement learning task where a pole is attached to a cart moving along a frictionless track. The goal is to prevent the pole from falling over by applying forces to move the cart left or right. \n",
    "\n",
    "Both agents are model-free reinforcement learning agents, in which the agent learns directly from experience or trial-and-error and uses the feedback to update their internal policies or value functions.\n",
    "\n",
    "### Project Structure\n",
    "\n",
    "The project consists of the following components:\n",
    "\n",
    "1. **Environment Setup**: Setting up the CartPole environment using either `gym` or `gymnasium`\n",
    "2. **Q-Learning Implementation (1st RL agent)**: A tabular Q-Learning agent with state discretization\n",
    "3. **Policy Gradient Implementation (2nd RL agent)**: A neural network-based Policy Gradient agent with a baseline value function.\n",
    "4. **Task 1**: Training & Development of RL Agents\n",
    "5. **Task 2**: Testing the trained agent's performance, running 100 episodes\n",
    "6. **Task 3**: Visualizing the agent's learning progress and final performance, rendering a video of an episode\n",
    "7. **Task 4**: Step-by-step instructions, explanations and comments for the project\n",
    "\n",
    "### Files in the Project\n",
    "\n",
    "- `q_learning_cartpole.ipynb`: This Jupyter notebook (the main file you're viewing now)\n",
    "- `q_learning_cartpole_model.pkl`: A pickle file which saves our Q Learning Model\n",
    "- `q_learning_cartpole_complete.pkl`: A pickle file which saves our Q Learning parameters/ hyperparameters\n",
    "- `video`: File containing video renders for the cartpole, for both our Q Learning & Policy Gradient agents\n",
    "\n",
    "Let's begin by importing the necessary dependencies and setting up our environment."
   ]
  },
  {
   "cell_type": "markdown",
   "metadata": {},
   "source": [
    "<div style=\"background-color: lightblue; color: white; padding: 10px; text-align: left; border-radius: 5px;\">\n",
    "    \n",
    "</div>"
   ]
  },
  {
   "cell_type": "markdown",
   "metadata": {
    "id": "UBiYOoesYMvr"
   },
   "source": [
    "## Installing dependencies:"
   ]
  },
  {
   "cell_type": "code",
   "execution_count": 1,
   "metadata": {
    "colab": {
     "base_uri": "https://localhost:8080/"
    },
    "id": "PbgnVwZmX5uW",
    "outputId": "7dcfe5ac-b419-4d5d-8305-1ba3c1240df3",
    "scrolled": true
   },
   "outputs": [
    {
     "name": "stdout",
     "output_type": "stream",
     "text": [
      "Requirement already satisfied: gym in c:\\users\\kejun\\anaconda3\\lib\\site-packages (0.25.2)\n",
      "Requirement already satisfied: numpy>=1.18.0 in c:\\users\\kejun\\anaconda3\\lib\\site-packages (from gym) (1.26.4)\n",
      "Requirement already satisfied: cloudpickle>=1.2.0 in c:\\users\\kejun\\anaconda3\\lib\\site-packages (from gym) (2.2.1)\n",
      "Requirement already satisfied: gym_notices>=0.0.4 in c:\\users\\kejun\\anaconda3\\lib\\site-packages (from gym) (0.0.8)\n"
     ]
    },
    {
     "name": "stderr",
     "output_type": "stream",
     "text": [
      "WARNING: Ignoring invalid distribution ~pencv-python-headless (C:\\Users\\kejun\\anaconda3\\Lib\\site-packages)\n",
      "WARNING: Ignoring invalid distribution ~pencv-python-headless (C:\\Users\\kejun\\anaconda3\\Lib\\site-packages)\n"
     ]
    },
    {
     "name": "stdout",
     "output_type": "stream",
     "text": [
      "Requirement already satisfied: gym[classic_control] in c:\\users\\kejun\\anaconda3\\lib\\site-packages (0.25.2)\n",
      "Requirement already satisfied: numpy>=1.18.0 in c:\\users\\kejun\\anaconda3\\lib\\site-packages (from gym[classic_control]) (1.26.4)\n",
      "Requirement already satisfied: cloudpickle>=1.2.0 in c:\\users\\kejun\\anaconda3\\lib\\site-packages (from gym[classic_control]) (2.2.1)\n",
      "Requirement already satisfied: gym_notices>=0.0.4 in c:\\users\\kejun\\anaconda3\\lib\\site-packages (from gym[classic_control]) (0.0.8)\n"
     ]
    },
    {
     "name": "stderr",
     "output_type": "stream",
     "text": [
      "WARNING: Ignoring invalid distribution ~pencv-python-headless (C:\\Users\\kejun\\anaconda3\\Lib\\site-packages)\n",
      "WARNING: gym 0.25.2 does not provide the extra 'classic_control'\n",
      "WARNING: Ignoring invalid distribution ~pencv-python-headless (C:\\Users\\kejun\\anaconda3\\Lib\\site-packages)\n"
     ]
    },
    {
     "name": "stdout",
     "output_type": "stream",
     "text": [
      "Requirement already satisfied: pygame in c:\\users\\kejun\\anaconda3\\lib\\site-packages (2.6.1)\n"
     ]
    },
    {
     "name": "stderr",
     "output_type": "stream",
     "text": [
      "WARNING: Ignoring invalid distribution ~pencv-python-headless (C:\\Users\\kejun\\anaconda3\\Lib\\site-packages)\n",
      "WARNING: Ignoring invalid distribution ~pencv-python-headless (C:\\Users\\kejun\\anaconda3\\Lib\\site-packages)\n"
     ]
    },
    {
     "name": "stdout",
     "output_type": "stream",
     "text": [
      "Requirement already satisfied: moviepy in c:\\users\\kejun\\anaconda3\\lib\\site-packages (2.1.2)\n",
      "Requirement already satisfied: decorator<6.0,>=4.0.2 in c:\\users\\kejun\\anaconda3\\lib\\site-packages (from moviepy) (5.1.1)\n",
      "Requirement already satisfied: imageio<3.0,>=2.5 in c:\\users\\kejun\\anaconda3\\lib\\site-packages (from moviepy) (2.26.0)\n",
      "Requirement already satisfied: imageio_ffmpeg>=0.2.0 in c:\\users\\kejun\\anaconda3\\lib\\site-packages (from moviepy) (0.6.0)\n",
      "Requirement already satisfied: numpy>=1.25.0 in c:\\users\\kejun\\anaconda3\\lib\\site-packages (from moviepy) (1.26.4)\n",
      "Requirement already satisfied: proglog<=1.0.0 in c:\\users\\kejun\\anaconda3\\lib\\site-packages (from moviepy) (0.1.10)\n",
      "Requirement already satisfied: python-dotenv>=0.10 in c:\\users\\kejun\\anaconda3\\lib\\site-packages (from moviepy) (0.21.0)\n",
      "Requirement already satisfied: pillow<11.0,>=9.2.0 in c:\\users\\kejun\\anaconda3\\lib\\site-packages (from moviepy) (10.0.1)\n",
      "Requirement already satisfied: tqdm in c:\\users\\kejun\\anaconda3\\lib\\site-packages (from proglog<=1.0.0->moviepy) (4.65.0)\n",
      "Requirement already satisfied: colorama in c:\\users\\kejun\\anaconda3\\lib\\site-packages (from tqdm->proglog<=1.0.0->moviepy) (0.4.6)\n"
     ]
    },
    {
     "name": "stderr",
     "output_type": "stream",
     "text": [
      "WARNING: Ignoring invalid distribution ~pencv-python-headless (C:\\Users\\kejun\\anaconda3\\Lib\\site-packages)\n",
      "WARNING: Ignoring invalid distribution ~pencv-python-headless (C:\\Users\\kejun\\anaconda3\\Lib\\site-packages)\n"
     ]
    },
    {
     "name": "stdout",
     "output_type": "stream",
     "text": [
      "Requirement already satisfied: tensorflow in c:\\users\\kejun\\anaconda3\\lib\\site-packages (2.16.1)\n",
      "Requirement already satisfied: tensorflow-intel==2.16.1 in c:\\users\\kejun\\anaconda3\\lib\\site-packages (from tensorflow) (2.16.1)\n",
      "Requirement already satisfied: absl-py>=1.0.0 in c:\\users\\kejun\\anaconda3\\lib\\site-packages (from tensorflow-intel==2.16.1->tensorflow) (2.1.0)\n",
      "Requirement already satisfied: astunparse>=1.6.0 in c:\\users\\kejun\\anaconda3\\lib\\site-packages (from tensorflow-intel==2.16.1->tensorflow) (1.6.3)\n",
      "Requirement already satisfied: flatbuffers>=23.5.26 in c:\\users\\kejun\\anaconda3\\lib\\site-packages (from tensorflow-intel==2.16.1->tensorflow) (24.3.25)\n",
      "Requirement already satisfied: gast!=0.5.0,!=0.5.1,!=0.5.2,>=0.2.1 in c:\\users\\kejun\\anaconda3\\lib\\site-packages (from tensorflow-intel==2.16.1->tensorflow) (0.5.4)\n",
      "Requirement already satisfied: google-pasta>=0.1.1 in c:\\users\\kejun\\anaconda3\\lib\\site-packages (from tensorflow-intel==2.16.1->tensorflow) (0.2.0)\n",
      "Requirement already satisfied: h5py>=3.10.0 in c:\\users\\kejun\\anaconda3\\lib\\site-packages (from tensorflow-intel==2.16.1->tensorflow) (3.11.0)\n",
      "Requirement already satisfied: libclang>=13.0.0 in c:\\users\\kejun\\anaconda3\\lib\\site-packages (from tensorflow-intel==2.16.1->tensorflow) (18.1.1)\n",
      "Requirement already satisfied: ml-dtypes~=0.3.1 in c:\\users\\kejun\\anaconda3\\lib\\site-packages (from tensorflow-intel==2.16.1->tensorflow) (0.3.2)\n",
      "Requirement already satisfied: opt-einsum>=2.3.2 in c:\\users\\kejun\\anaconda3\\lib\\site-packages (from tensorflow-intel==2.16.1->tensorflow) (3.3.0)\n",
      "Requirement already satisfied: packaging in c:\\users\\kejun\\anaconda3\\lib\\site-packages (from tensorflow-intel==2.16.1->tensorflow) (23.1)\n",
      "Requirement already satisfied: protobuf!=4.21.0,!=4.21.1,!=4.21.2,!=4.21.3,!=4.21.4,!=4.21.5,<5.0.0dev,>=3.20.3 in c:\\users\\kejun\\anaconda3\\lib\\site-packages (from tensorflow-intel==2.16.1->tensorflow) (4.25.3)\n",
      "Requirement already satisfied: requests<3,>=2.21.0 in c:\\users\\kejun\\anaconda3\\lib\\site-packages (from tensorflow-intel==2.16.1->tensorflow) (2.31.0)\n",
      "Requirement already satisfied: setuptools in c:\\users\\kejun\\anaconda3\\lib\\site-packages (from tensorflow-intel==2.16.1->tensorflow) (76.0.0)\n",
      "Requirement already satisfied: six>=1.12.0 in c:\\users\\kejun\\anaconda3\\lib\\site-packages (from tensorflow-intel==2.16.1->tensorflow) (1.16.0)\n",
      "Requirement already satisfied: termcolor>=1.1.0 in c:\\users\\kejun\\anaconda3\\lib\\site-packages (from tensorflow-intel==2.16.1->tensorflow) (2.4.0)\n",
      "Requirement already satisfied: typing-extensions>=3.6.6 in c:\\users\\kejun\\anaconda3\\lib\\site-packages (from tensorflow-intel==2.16.1->tensorflow) (4.12.2)\n",
      "Requirement already satisfied: wrapt>=1.11.0 in c:\\users\\kejun\\anaconda3\\lib\\site-packages (from tensorflow-intel==2.16.1->tensorflow) (1.14.1)\n",
      "Requirement already satisfied: grpcio<2.0,>=1.24.3 in c:\\users\\kejun\\anaconda3\\lib\\site-packages (from tensorflow-intel==2.16.1->tensorflow) (1.64.0)\n",
      "Requirement already satisfied: tensorboard<2.17,>=2.16 in c:\\users\\kejun\\anaconda3\\lib\\site-packages (from tensorflow-intel==2.16.1->tensorflow) (2.16.2)\n",
      "Requirement already satisfied: keras>=3.0.0 in c:\\users\\kejun\\anaconda3\\lib\\site-packages (from tensorflow-intel==2.16.1->tensorflow) (3.3.3)\n",
      "Requirement already satisfied: tensorflow-io-gcs-filesystem>=0.23.1 in c:\\users\\kejun\\anaconda3\\lib\\site-packages (from tensorflow-intel==2.16.1->tensorflow) (0.31.0)\n",
      "Requirement already satisfied: numpy<2.0.0,>=1.23.5 in c:\\users\\kejun\\anaconda3\\lib\\site-packages (from tensorflow-intel==2.16.1->tensorflow) (1.26.4)\n",
      "Requirement already satisfied: wheel<1.0,>=0.23.0 in c:\\users\\kejun\\anaconda3\\lib\\site-packages (from astunparse>=1.6.0->tensorflow-intel==2.16.1->tensorflow) (0.38.4)\n",
      "Requirement already satisfied: rich in c:\\users\\kejun\\anaconda3\\lib\\site-packages (from keras>=3.0.0->tensorflow-intel==2.16.1->tensorflow) (13.7.1)\n",
      "Requirement already satisfied: namex in c:\\users\\kejun\\anaconda3\\lib\\site-packages (from keras>=3.0.0->tensorflow-intel==2.16.1->tensorflow) (0.0.8)\n",
      "Requirement already satisfied: optree in c:\\users\\kejun\\anaconda3\\lib\\site-packages (from keras>=3.0.0->tensorflow-intel==2.16.1->tensorflow) (0.11.0)\n",
      "Requirement already satisfied: charset-normalizer<4,>=2 in c:\\users\\kejun\\anaconda3\\lib\\site-packages (from requests<3,>=2.21.0->tensorflow-intel==2.16.1->tensorflow) (2.0.4)\n",
      "Requirement already satisfied: idna<4,>=2.5 in c:\\users\\kejun\\anaconda3\\lib\\site-packages (from requests<3,>=2.21.0->tensorflow-intel==2.16.1->tensorflow) (3.4)\n",
      "Requirement already satisfied: urllib3<3,>=1.21.1 in c:\\users\\kejun\\anaconda3\\lib\\site-packages (from requests<3,>=2.21.0->tensorflow-intel==2.16.1->tensorflow) (1.26.16)\n",
      "Requirement already satisfied: certifi>=2017.4.17 in c:\\users\\kejun\\anaconda3\\lib\\site-packages (from requests<3,>=2.21.0->tensorflow-intel==2.16.1->tensorflow) (2023.11.17)\n",
      "Requirement already satisfied: markdown>=2.6.8 in c:\\users\\kejun\\anaconda3\\lib\\site-packages (from tensorboard<2.17,>=2.16->tensorflow-intel==2.16.1->tensorflow) (3.4.1)\n",
      "Requirement already satisfied: tensorboard-data-server<0.8.0,>=0.7.0 in c:\\users\\kejun\\anaconda3\\lib\\site-packages (from tensorboard<2.17,>=2.16->tensorflow-intel==2.16.1->tensorflow) (0.7.2)\n",
      "Requirement already satisfied: werkzeug>=1.0.1 in c:\\users\\kejun\\anaconda3\\lib\\site-packages (from tensorboard<2.17,>=2.16->tensorflow-intel==2.16.1->tensorflow) (2.2.3)\n",
      "Requirement already satisfied: MarkupSafe>=2.1.1 in c:\\users\\kejun\\anaconda3\\lib\\site-packages (from werkzeug>=1.0.1->tensorboard<2.17,>=2.16->tensorflow-intel==2.16.1->tensorflow) (2.1.1)\n",
      "Requirement already satisfied: markdown-it-py>=2.2.0 in c:\\users\\kejun\\anaconda3\\lib\\site-packages (from rich->keras>=3.0.0->tensorflow-intel==2.16.1->tensorflow) (2.2.0)\n",
      "Requirement already satisfied: pygments<3.0.0,>=2.13.0 in c:\\users\\kejun\\anaconda3\\lib\\site-packages (from rich->keras>=3.0.0->tensorflow-intel==2.16.1->tensorflow) (2.15.1)\n",
      "Requirement already satisfied: mdurl~=0.1 in c:\\users\\kejun\\anaconda3\\lib\\site-packages (from markdown-it-py>=2.2.0->rich->keras>=3.0.0->tensorflow-intel==2.16.1->tensorflow) (0.1.0)\n"
     ]
    },
    {
     "name": "stderr",
     "output_type": "stream",
     "text": [
      "WARNING: Ignoring invalid distribution ~pencv-python-headless (C:\\Users\\kejun\\anaconda3\\Lib\\site-packages)\n",
      "WARNING: Ignoring invalid distribution ~pencv-python-headless (C:\\Users\\kejun\\anaconda3\\Lib\\site-packages)\n"
     ]
    },
    {
     "name": "stdout",
     "output_type": "stream",
     "text": [
      "Collecting ffmpeg\n",
      "  Using cached ffmpeg-1.4.tar.gz (5.1 kB)\n",
      "  Preparing metadata (setup.py): started\n",
      "  Preparing metadata (setup.py): finished with status 'error'\n"
     ]
    },
    {
     "name": "stderr",
     "output_type": "stream",
     "text": [
      "WARNING: Ignoring invalid distribution ~pencv-python-headless (C:\\Users\\kejun\\anaconda3\\Lib\\site-packages)\n",
      "  error: subprocess-exited-with-error\n",
      "  \n",
      "  python setup.py egg_info did not run successfully.\n",
      "  exit code: 1\n",
      "  \n",
      "  [1 lines of output]\n",
      "  ERROR: Can not execute `setup.py` since setuptools is not available in the build environment.\n",
      "  [end of output]\n",
      "  \n",
      "  note: This error originates from a subprocess, and is likely not a problem with pip.\n",
      "error: metadata-generation-failed\n",
      "\n",
      "Encountered error while generating package metadata.\n",
      "\n",
      "See above for output.\n",
      "\n",
      "note: This is an issue with the package mentioned above, not pip.\n",
      "hint: See above for details.\n"
     ]
    },
    {
     "name": "stdout",
     "output_type": "stream",
     "text": [
      "Requirement already satisfied: imageio-ffmpeg in c:\\users\\kejun\\anaconda3\\lib\\site-packages (0.6.0)\n"
     ]
    },
    {
     "name": "stderr",
     "output_type": "stream",
     "text": [
      "WARNING: Ignoring invalid distribution ~pencv-python-headless (C:\\Users\\kejun\\anaconda3\\Lib\\site-packages)\n",
      "WARNING: Ignoring invalid distribution ~pencv-python-headless (C:\\Users\\kejun\\anaconda3\\Lib\\site-packages)\n"
     ]
    }
   ],
   "source": [
    "!pip install gym\n",
    "!pip install gym[classic_control]\n",
    "!pip install pygame\n",
    "!pip install moviepy\n",
    "!pip install tensorflow\n",
    "!pip install ffmpeg\n",
    "!pip install imageio-ffmpeg"
   ]
  },
  {
   "cell_type": "markdown",
   "metadata": {
    "id": "RwKbYeTgbaTA"
   },
   "source": [
    "## Importing dependencies"
   ]
  },
  {
   "cell_type": "code",
   "execution_count": 2,
   "metadata": {
    "id": "j6KpgCLGYWmj"
   },
   "outputs": [],
   "source": [
    "import gym\n",
    "from gym import logger as gymlogger\n",
    "from gym.wrappers import RecordVideo\n",
    "gymlogger.set_level(40) #error only\n",
    "import tensorflow as tf\n",
    "import numpy as np\n",
    "import random\n",
    "import matplotlib\n",
    "import matplotlib.pyplot as plt\n",
    "%matplotlib inline\n",
    "import math\n",
    "import glob\n",
    "import io\n",
    "import base64\n",
    "from IPython.display import HTML\n",
    "from IPython import display as ipythondisplay\n"
   ]
  },
  {
   "cell_type": "markdown",
   "metadata": {},
   "source": [
    "## Helper function for the video"
   ]
  },
  {
   "cell_type": "code",
   "execution_count": 3,
   "metadata": {},
   "outputs": [],
   "source": [
    "def show_video():\n",
    "  mp4list = glob.glob('video/*.mp4')\n",
    "  if len(mp4list) > 0:\n",
    "    mp4 = mp4list[0]\n",
    "    video = io.open(mp4, 'r+b').read()\n",
    "    encoded = base64.b64encode(video)\n",
    "    ipythondisplay.display(HTML(data='''<video alt=\"test\" autoplay \n",
    "                loop controls style=\"height: 400px;\">\n",
    "                <source src=\"data:video/mp4;base64,{0}\" type=\"video/mp4\" />\n",
    "             </video>'''.format(encoded.decode('ascii'))))\n",
    "  else: \n",
    "    print(\"Could not find video\")"
   ]
  },
  {
   "cell_type": "markdown",
   "metadata": {},
   "source": [
    "<div style=\"background-color: lightblue; color: white; padding: 10px; text-align: left; border-radius: 5px;\">\n",
    "    \n",
    "</div>"
   ]
  },
  {
   "cell_type": "markdown",
   "metadata": {
    "id": "ehbqP9CXbmo7"
   },
   "source": [
    "## Loading the CartPole environment"
   ]
  },
  {
   "cell_type": "markdown",
   "metadata": {},
   "source": [
    "Firstly, we start by initialising the Reinforcement Learning environment, using the OpenAI Gym library. We use the CartPole-v1 environment, which also provides us with some initial values & parameters for our Q-Learning algorithm."
   ]
  },
  {
   "cell_type": "code",
   "execution_count": 4,
   "metadata": {
    "id": "Go12dH4qbwBy"
   },
   "outputs": [],
   "source": [
    "env = gym.make(\"CartPole-v1\")"
   ]
  },
  {
   "cell_type": "markdown",
   "metadata": {
    "id": "9XZ9g3xrcAXE"
   },
   "source": [
    "We can check the action and observation space of this environment. Discrete(2) means that there are two valid discrete actions: 0 & 1."
   ]
  },
  {
   "cell_type": "code",
   "execution_count": 5,
   "metadata": {
    "colab": {
     "base_uri": "https://localhost:8080/"
    },
    "id": "ytxvVmLdcRyw",
    "outputId": "1ce07099-492b-4126-a792-8ff12d79c2db"
   },
   "outputs": [
    {
     "name": "stdout",
     "output_type": "stream",
     "text": [
      "Discrete(2)\n"
     ]
    }
   ],
   "source": [
    "print(env.action_space)"
   ]
  },
  {
   "cell_type": "markdown",
   "metadata": {
    "id": "pVXGWi_Ncfg-"
   },
   "source": [
    "The observation space is given below. The first two arrays define the min and max values of the 4 observed values, corresponding to cart position, velocity and pole angle, angular velocity."
   ]
  },
  {
   "cell_type": "code",
   "execution_count": 6,
   "metadata": {
    "colab": {
     "base_uri": "https://localhost:8080/"
    },
    "id": "DyqHr9I5cdkX",
    "outputId": "369a0733-e7c0-4bca-b427-5e1c603ff074"
   },
   "outputs": [
    {
     "name": "stdout",
     "output_type": "stream",
     "text": [
      "Box([-4.8000002e+00 -3.4028235e+38 -4.1887903e-01 -3.4028235e+38], [4.8000002e+00 3.4028235e+38 4.1887903e-01 3.4028235e+38], (4,), float32)\n"
     ]
    }
   ],
   "source": [
    "print(env.observation_space)"
   ]
  },
  {
   "cell_type": "markdown",
   "metadata": {
    "id": "HFOdaU2Gdyg0"
   },
   "source": [
    "We call each round of the pole-balancing game an \"episode\". At the start of each episode, make sure the environment is reset, which chooses a random initial state, e.g., pole slightly tilted to the right. This initialization can be achieved by the code below, which returns the observation of the initial state."
   ]
  },
  {
   "cell_type": "code",
   "execution_count": 7,
   "metadata": {
    "colab": {
     "base_uri": "https://localhost:8080/"
    },
    "id": "VMr6qAqxdOsm",
    "outputId": "0e35ee3b-15d0-4e1f-926c-194a5a43f830"
   },
   "outputs": [
    {
     "name": "stdout",
     "output_type": "stream",
     "text": [
      "Initial observations: [ 0.01173995 -0.04093289  0.04734913  0.037074  ]\n"
     ]
    }
   ],
   "source": [
    "observation = env.reset()\n",
    "print(\"Initial observations:\", observation)"
   ]
  },
  {
   "cell_type": "markdown",
   "metadata": {
    "id": "qnG2QdfbeZrI"
   },
   "source": [
    "For the CartPole environment, there are two possible actions: 0 for pushing to the left and 1 for pushing to the right. For example, we can push the cart to the left using code below, which returns the new observation, the current reward, an indicator of whether the game ends, and some additional information (not used in this project). For CartPole, the game ends when the pole is significantly tilted or you manage to balance the pole for 500 steps. You get exactly 1 reward for each step before the game ends (i.e., max cumulative reward is 500)."
   ]
  },
  {
   "cell_type": "code",
   "execution_count": 8,
   "metadata": {
    "colab": {
     "base_uri": "https://localhost:8080/"
    },
    "id": "MmfMDvyYdWGk",
    "outputId": "fa12ffd8-6707-4cbc-fb86-aef8484d5d17"
   },
   "outputs": [
    {
     "name": "stdout",
     "output_type": "stream",
     "text": [
      "New observations after choosing action 0: [ 0.01092129 -0.23670073  0.0480906   0.34431207]\n",
      "Reward for this step: 1.0\n",
      "Is this round done? False\n"
     ]
    },
    {
     "name": "stderr",
     "output_type": "stream",
     "text": [
      "C:\\Users\\kejun\\anaconda3\\Lib\\site-packages\\gym\\utils\\passive_env_checker.py:241: DeprecationWarning: `np.bool8` is a deprecated alias for `np.bool_`.  (Deprecated NumPy 1.24)\n",
      "  if not isinstance(terminated, (bool, np.bool8)):\n"
     ]
    }
   ],
   "source": [
    "observation, reward, done, info = env.step(0)\n",
    "print(\"New observations after choosing action 0:\", observation)\n",
    "print(\"Reward for this step:\", reward)\n",
    "print(\"Is this round done?\", done)"
   ]
  },
  {
   "cell_type": "markdown",
   "metadata": {
    "id": "tj0zCh59fhBb"
   },
   "source": [
    "Now we can play a full round of the game using a naive strategy (always choosing action 0), and show the cumulative reward in the round. Note that reward returned by env.step(*) corresponds to the reward for current step. So we have to accumulate the reward for each step. Clearly, the naive strategy performs poorly by surviving only a dozen of steps."
   ]
  },
  {
   "cell_type": "code",
   "execution_count": 9,
   "metadata": {
    "colab": {
     "base_uri": "https://localhost:8080/"
    },
    "id": "AVucQVRwf6Jm",
    "outputId": "72f0b7d5-7cb5-4e37-da3d-997c1bfb4641"
   },
   "outputs": [
    {
     "name": "stdout",
     "output_type": "stream",
     "text": [
      "Cumulative reward for this round: 10.0\n"
     ]
    }
   ],
   "source": [
    "observation = env.reset()\n",
    "cumulative_reward = 0\n",
    "done = False\n",
    "while not done:\n",
    "    observation, reward, done, info = env.step(0)\n",
    "    cumulative_reward += reward\n",
    "print(\"Cumulative reward for this round:\", cumulative_reward)"
   ]
  },
  {
   "cell_type": "markdown",
   "metadata": {},
   "source": [
    "<div style=\"background-color: lightblue; color: white; padding: 10px; text-align: left; border-radius: 5px;\">\n",
    "    \n",
    "</div>"
   ]
  },
  {
   "cell_type": "markdown",
   "metadata": {},
   "source": [
    "## Q-Learning Theory\n",
    "\n",
    "Q-Learning is a model-free reinforcement learning algorithm that learns a policy to maximize the expected cumulative reward. It uses a Q-table (or Q-function) to represent the expected utility of taking a given action in a given state.\n",
    "\n",
    "### The Q-Learning Algorithm\n",
    "\n",
    "1. **Initialize** the Q-table with zeros or small random values\n",
    "2. **For each episode**:\n",
    "   - Reset the environment to get an initial state\n",
    "   - **For each step in the episode**:\n",
    "     - Choose an action using an exploration-exploitation strategy (e.g., epsilon-greedy)\n",
    "     - Take the action, observe the reward and next state\n",
    "     - Update the Q-value using the Q-learning update rule\n",
    "     - Move to the next state\n",
    "     - If the episode is done, break the loop\n",
    "\n",
    "### The Q-Learning Update Rule\n",
    "\n",
    "The Q-learning update rule is:\n",
    "\n",
    "$$Q(s_t, a_t) \\leftarrow Q(s_t, a_t) + \\alpha [r_t + \\gamma \\max_a Q(s_{t+1}, a) - Q(s_t, a_t)]$$\n",
    "\n",
    "Where:\n",
    "- $Q(s_t, a_t)$ is the current Q-value for state $s_t$ and action $a_t$\n",
    "- $\\alpha$ is the learning rate (how quickly we update our Q-values)\n",
    "- $r_t$ is the reward received after taking action $a_t$ in state $s_t$\n",
    "- $\\gamma$ is the discount factor (how much we value future rewards)\n",
    "- $\\max_a Q(s_{t+1}, a)$ is the maximum Q-value for the next state $s_{t+1}$\n",
    "\n",
    "### State Discretization\n",
    "\n",
    "The CartPole problem has a continuous state space, but Q-learning traditionally works with discrete states. To handle this, we'll discretize the continuous state space into buckets. The state in CartPole consists of:\n",
    "\n",
    "1. Cart Position: -4.8 to 4.8\n",
    "2. Cart Velocity: -∞ to ∞ (we'll use reasonable bounds)\n",
    "3. Pole Angle: -0.418 to 0.418 radians\n",
    "4. Pole Angular Velocity: -∞ to ∞ (we'll use reasonable bounds)\n",
    "\n",
    "By discretizing each dimension into buckets, we create a finite state space that our Q-learning algorithm can handle."
   ]
  },
  {
   "cell_type": "markdown",
   "metadata": {},
   "source": [
    "<div style=\"background-color: lightblue; color: white; padding: 10px; text-align: left; border-radius: 5px;\">\n",
    "    \n",
    "</div>"
   ]
  },
  {
   "cell_type": "markdown",
   "metadata": {},
   "source": [
    "## Task 1: Developing & Training the Q-Learning Agent"
   ]
  },
  {
   "cell_type": "markdown",
   "metadata": {},
   "source": [
    "### Implementing the Q-Learning Agent\n",
    "\n",
    "We'll now implement our Q-Learning agent for the CartPole environment. The key components are:\n",
    "\n",
    "#### 1. State Discretization\n",
    "Converting continuous state values to discrete buckets to create a manageable state space for our Q-table.\n",
    "Problem: The cart-pole environment has **continuous values** (e.g. angle = 0.7, velocity = 1.2 m/s). Q-Learning works best with discrete states. Hence, we split continuous values into bins/ slots.\n",
    "\n",
    "#### 2. Q-table Initialization\n",
    "Creating a table to store state-action values, initialized with optimistic values to encourage exploration.\n",
    "\n",
    "#### 3. Action Selection Policy\n",
    "Using an epsilon-greedy policy to balance exploration (trying new actions) and exploitation (using known good actions).\n",
    "\n",
    "#### 4. Q-value Update Rule\n",
    "Implementing the Q-learning update rule to learn from experience.\n",
    "\n",
    "#### 5. Training Process\n",
    "Run it for many episodes, where in each episode, environment is reset, and rewards are stored to track progress."
   ]
  },
  {
   "cell_type": "markdown",
   "metadata": {},
   "source": [
    "<div style=\"background-color: lightblue; color: white; padding: 10px; text-align: left; border-radius: 5px;\">\n",
    "    \n",
    "</div>"
   ]
  },
  {
   "cell_type": "markdown",
   "metadata": {},
   "source": [
    "### Initialising parameters, discretization of states"
   ]
  },
  {
   "cell_type": "code",
   "execution_count": 10,
   "metadata": {},
   "outputs": [],
   "source": [
    "env = gym.make(\"CartPole-v1\")\n",
    "\n",
    "# initialise values\n",
    "env = gym.make(\"CartPole-v1\")\n",
    "\n",
    "alpha = 0.1  # Learning rate\n",
    "gamma = 0.99  # Discount factor (slightly reduced from 1.0)\n",
    "epsilon = 0.1  # Initial exploration rate\n",
    "min_epsilon = 0.01  # Minimum exploration rate\n",
    "epsilon_decay = 0.9995  # Epsilon decay rate\n",
    "\n",
    "# State discretization bins\n",
    "numberOfBinsPosition = 20\n",
    "numberOfBinsVelocity = 20\n",
    "numberOfBinsAngle = 40\n",
    "numberOfBinsAngleVelocity = 40\n",
    "numberOfBins = [numberOfBinsPosition, numberOfBinsVelocity, numberOfBinsAngle, numberOfBinsAngleVelocity]\n",
    "actionNumber = env.action_space.n\n",
    "\n",
    "# Initialize Q-matrix\n",
    "Qmatrix = np.random.uniform(low=0, high=1, size=(numberOfBins[0], numberOfBins[1], numberOfBins[2], numberOfBins[3], actionNumber))\n",
    "\n",
    "# Set environment bounds\n",
    "upperBounds = env.observation_space.high\n",
    "lowerBounds = env.observation_space.low\n",
    "cartVelocityMin = -3\n",
    "cartVelocityMax = 3\n",
    "poleAngleVelocityMin = -10\n",
    "poleAngleVelocityMax = 10\n",
    "upperBounds[1] = cartVelocityMax\n",
    "upperBounds[3] = poleAngleVelocityMax\n",
    "lowerBounds[1] = cartVelocityMin\n",
    "lowerBounds[3] = poleAngleVelocityMin"
   ]
  },
  {
   "cell_type": "markdown",
   "metadata": {},
   "source": [
    "## State Discretization Function for Q-Learning\n",
    "\n",
    "The `returnIndexState` function is a crucial component of our Q-learning implementation for the CartPole environment. This function transforms the continuous state space of the CartPole problem into a discrete representation that can be used as indices for our Q-matrix.\n",
    "\n",
    "### Function Process:\n",
    "\n",
    "1. **State Variable Extraction**: \n",
    "   - Extracts the four continuous state variables from the input array:\n",
    "     - `position`: The cart's horizontal position\n",
    "     - `velocity`: The cart's velocity\n",
    "     - `angle`: The pole's angle relative to vertical\n",
    "     - `angularVelocity`: The pole's angular velocity\n",
    "\n",
    "2. **Discretization Bins Creation**: \n",
    "   - Creates evenly spaced bins for each state variable using `np.linspace`\n",
    "   - Each dimension's range (from lower to upper bounds) is divided into the specified number of bins\n",
    "\n",
    "3. **State Discretization**: \n",
    "   - Uses `np.digitize` to determine which bin each continuous state value belongs to\n",
    "   - This effectively converts continuous values to discrete indices\n",
    "\n",
    "4. **Index Adjustment**: \n",
    "   - Subtracts 1 from the digitized values to convert from 1-based indexing (returned by `np.digitize`) to 0-based indexing\n",
    "   - Uses `np.maximum` to ensure no negative indices are produced\n",
    "\n",
    "5. **Return Value**: \n",
    "   - Returns a tuple of four integers representing the discretized state\n",
    "   - This tuple serves as an index into our Q-matrix\n",
    "\n",
    "This discretization approach allows our agent to generalize across similar states and makes the learning problem tractable by reducing the infinite continuous state space to a finite discrete representation.\n"
   ]
  },
  {
   "cell_type": "code",
   "execution_count": 11,
   "metadata": {},
   "outputs": [],
   "source": [
    "def returnIndexState(state):\n",
    "\n",
    "    # extracting values from the state array into their rightful variables\n",
    "    position = state[0]\n",
    "    velocity = state[1]\n",
    "    angle = state[2]\n",
    "    angularVelocity = state[3]\n",
    "\n",
    "    # creates the bins for each of the states using np.linspace function\n",
    "    cartPositionBin = np.linspace(lowerBounds[0], upperBounds[0],numberOfBins[0])\n",
    "    cartVelocityBin = np.linspace(lowerBounds[1], upperBounds[1],numberOfBins[1])\n",
    "    poleAngleBin = np.linspace(lowerBounds[2], upperBounds[2],numberOfBins[2])\n",
    "    poleAngleVelocityBin = np.linspace(lowerBounds[3], upperBounds[3],numberOfBins[3])\n",
    "\n",
    "    # returns the index of the closest bin to the state, -1 to adjust the indices returned by np.digitize to start from zero instead of one\n",
    "    indexPosition=np.maximum(np.digitize(position, cartPositionBin)-1,0)\n",
    "    indexVelocity=np.maximum(np.digitize(velocity, cartVelocityBin)-1,0)\n",
    "    indexAngle=np.maximum(np.digitize(angle, poleAngleBin)-1,0)\n",
    "    indexAngularVelocity=np.maximum(np.digitize(angularVelocity, poleAngleVelocityBin)-1,0)\n",
    "\n",
    "    return tuple([indexPosition, indexVelocity, indexAngle, indexAngularVelocity])"
   ]
  },
  {
   "cell_type": "markdown",
   "metadata": {},
   "source": [
    "## Action Selection Strategy for Q-Learning Agent\n",
    "\n",
    "The `selectAction` function implements an epsilon-greedy action selection strategy for our Q-learning agent in the CartPole environment. This function balances exploration and exploitation to optimize the agent's learning process.\n",
    "\n",
    "### Function Process:\n",
    "\n",
    "1. **Initial Exploration Phase**:\n",
    "   - For the first 500 episodes during training (`index < 500 and isTraining`), the agent selects completely random actions\n",
    "   - This ensures thorough exploration of the state space early in training\n",
    "\n",
    "2. **Epsilon Decay Mechanism**:\n",
    "   - After 5000 episodes (`index > 5000 and isTraining`), the exploration rate (epsilon) gradually decreases\n",
    "   - Epsilon is reduced by multiplying it by a decay factor (`epsilon_decay`)\n",
    "   - A minimum epsilon value (`min_epsilon`) prevents exploration from dropping too low\n",
    "\n",
    "3. **Epsilon-Greedy Decision**:\n",
    "   - With probability epsilon, the agent selects a random action (exploration)\n",
    "   - With probability (1-epsilon), the agent selects the action with the highest Q-value (exploitation)\n",
    "\n",
    "4. **Greedy Action Selection**:\n",
    "   - When exploiting, the agent first converts the continuous state to a discretized index using `returnIndexState`\n",
    "   - It then identifies the action(s) with the maximum Q-value for that state\n",
    "   - If multiple actions have the same maximum Q-value, one is randomly chosen\n",
    "\n",
    "This approach allows the agent to initially explore the environment broadly, then gradually shift toward exploiting its learned knowledge, while always maintaining some level of exploration to discover potentially better strategies.\n"
   ]
  },
  {
   "cell_type": "code",
   "execution_count": 12,
   "metadata": {},
   "outputs": [],
   "source": [
    "def selectAction(state, index, isTraining):\n",
    "    global epsilon\n",
    "    \n",
    "    # For the first 500 episodes, use more exploration\n",
    "    if index < 500 and isTraining:\n",
    "        return np.random.choice(actionNumber)\n",
    "    \n",
    "    # Decay epsilon after episode 5000 instead of 7000\n",
    "    if index > 5000 and isTraining:\n",
    "        epsilon = max(min_epsilon, epsilon * epsilon_decay)\n",
    "    \n",
    "    # Epsilon-greedy action selection\n",
    "    if np.random.random() < epsilon:\n",
    "        return np.random.choice(actionNumber)\n",
    "    else:\n",
    "        state_index = returnIndexState(state)\n",
    "        return np.random.choice(np.where(Qmatrix[state_index] == np.max(Qmatrix[state_index]))[0])"
   ]
  },
  {
   "cell_type": "markdown",
   "metadata": {},
   "source": [
    "## Training the RL agent"
   ]
  },
  {
   "cell_type": "code",
   "execution_count": 13,
   "metadata": {},
   "outputs": [],
   "source": [
    "def simulateEpisodes(numberEpisodes, isTraining):\n",
    "    # List to store the sum of rewards for every 1000 episodes\n",
    "    sumRewardsPer1000Episodes = []\n",
    "    totalReward = 0  # Accumulate rewards over 1000 episodes\n",
    "\n",
    "    for indexEpisode in range(numberEpisodes):\n",
    "        # List that stores rewards per episode\n",
    "        rewardsEpisode = []\n",
    "\n",
    "        # Reset the environment at the beginning of every episode\n",
    "        stateS = env.reset()\n",
    "        stateS = list(stateS)\n",
    "\n",
    "        # Stepping from one state to another\n",
    "        # Loop until a terminal state is reached\n",
    "        terminalState = False\n",
    "        while not terminalState:\n",
    "            # Return a discretized index of the state\n",
    "            stateSIndex = returnIndexState(stateS)\n",
    "\n",
    "            # Select an action on the basis of the current state, denoted by stateS\n",
    "            actionA = selectAction(stateS, indexEpisode, isTraining)\n",
    "\n",
    "            # Step and return the state, reward, and boolean denoting if the state is a terminal state\n",
    "            stateSprime, reward, terminalState, _ = env.step(actionA)\n",
    "\n",
    "            rewardsEpisode.append(reward)\n",
    "            stateSprime = list(stateSprime)\n",
    "            stateSprimeIndex = returnIndexState(stateSprime)\n",
    "\n",
    "            # Return the max value, we do not need actionAprime\n",
    "            QmaxPrime = np.max(Qmatrix[stateSprimeIndex])\n",
    "\n",
    "            if not terminalState:\n",
    "                # Update Q-value using the Bellman equation\n",
    "                error = reward + gamma * QmaxPrime - Qmatrix[stateSIndex + (actionA,)]\n",
    "                Qmatrix[stateSIndex + (actionA,)] += alpha * error\n",
    "            else:\n",
    "                # In the terminal state, Qmatrix[stateSprime, actionAprime] = 0\n",
    "                error = reward - Qmatrix[stateSIndex + (actionA,)]\n",
    "                Qmatrix[stateSIndex + (actionA,)] += alpha * error\n",
    "\n",
    "            stateS = stateSprime\n",
    "\n",
    "        # Accumulate the total reward for the episode\n",
    "        totalReward += np.sum(rewardsEpisode)\n",
    "\n",
    "        # Print average reward every 1000 episodes\n",
    "        if (indexEpisode + 1) % 1000 == 0:\n",
    "            averageReward = totalReward / 1000\n",
    "            sumRewardsPer1000Episodes.append(averageReward)\n",
    "            print(f\"Episode {indexEpisode + 1}: Average reward over last 1000 episodes = {averageReward:.2f}\")\n",
    "            totalReward = 0  # Reset for the next 1000 episodes\n",
    "\n",
    "    return sumRewardsPer1000Episodes"
   ]
  },
  {
   "cell_type": "code",
   "execution_count": 14,
   "metadata": {},
   "outputs": [
    {
     "name": "stdout",
     "output_type": "stream",
     "text": [
      "Episode 1000: Average reward over last 1000 episodes = 72.33\n",
      "Episode 2000: Average reward over last 1000 episodes = 158.13\n",
      "Episode 3000: Average reward over last 1000 episodes = 171.53\n",
      "Episode 4000: Average reward over last 1000 episodes = 173.62\n",
      "Episode 5000: Average reward over last 1000 episodes = 181.24\n",
      "Episode 6000: Average reward over last 1000 episodes = 183.72\n",
      "Episode 7000: Average reward over last 1000 episodes = 202.15\n",
      "Episode 8000: Average reward over last 1000 episodes = 189.42\n",
      "Episode 9000: Average reward over last 1000 episodes = 184.05\n",
      "Episode 10000: Average reward over last 1000 episodes = 195.21\n",
      "Episode 11000: Average reward over last 1000 episodes = 196.69\n",
      "Episode 12000: Average reward over last 1000 episodes = 217.26\n",
      "Episode 13000: Average reward over last 1000 episodes = 197.04\n",
      "Episode 14000: Average reward over last 1000 episodes = 190.44\n",
      "Episode 15000: Average reward over last 1000 episodes = 207.36\n"
     ]
    },
    {
     "data": {
      "text/plain": [
       "[72.334,\n",
       " 158.127,\n",
       " 171.53,\n",
       " 173.625,\n",
       " 181.244,\n",
       " 183.715,\n",
       " 202.146,\n",
       " 189.416,\n",
       " 184.046,\n",
       " 195.209,\n",
       " 196.694,\n",
       " 217.258,\n",
       " 197.037,\n",
       " 190.436,\n",
       " 207.359]"
      ]
     },
     "execution_count": 14,
     "metadata": {},
     "output_type": "execute_result"
    }
   ],
   "source": [
    "Qmatrix=np.random.uniform(low=0, high=1, size=(numberOfBins[0],numberOfBins[1],numberOfBins[2],numberOfBins[3],actionNumber))\n",
    "\n",
    "# run 15000 episodes for training, prioritise initial exploration\n",
    "simulateEpisodes(15000, True)"
   ]
  },
  {
   "cell_type": "markdown",
   "metadata": {},
   "source": [
    "### Saving the trained Q-Learning Agent into a pickle file"
   ]
  },
  {
   "cell_type": "code",
   "execution_count": 15,
   "metadata": {},
   "outputs": [],
   "source": [
    "import pickle\n",
    "\n",
    "# After training your Q-learning agent\n",
    "# Save the Q-matrix to a pickle file\n",
    "with open('q_learning_cartpole_model.pkl', 'wb') as f:\n",
    "    pickle.dump(Qmatrix, f)\n",
    "\n",
    "# To load the model later\n",
    "with open('q_learning_cartpole_model.pkl', 'rb') as f:\n",
    "    loaded_Qmatrix = pickle.load(f)\n"
   ]
  },
  {
   "cell_type": "code",
   "execution_count": 16,
   "metadata": {},
   "outputs": [],
   "source": [
    "# Save multiple components\n",
    "model_data = {\n",
    "    'Qmatrix': Qmatrix,\n",
    "    'alpha': alpha,\n",
    "    'gamma': gamma,\n",
    "    'epsilon': epsilon,\n",
    "    'numberOfBins': numberOfBins,\n",
    "    'upperBounds': upperBounds,\n",
    "    'lowerBounds': lowerBounds\n",
    "}\n",
    "\n",
    "with open('q_learning_cartpole_parameters.pkl', 'wb') as f:\n",
    "    pickle.dump(model_data, f)\n",
    "\n",
    "# Load the complete model\n",
    "with open('q_learning_cartpole_parameters.pkl', 'rb') as f:\n",
    "    loaded_model = pickle.load(f)\n",
    "    loaded_Qmatrix = loaded_model['Qmatrix']"
   ]
  },
  {
   "cell_type": "markdown",
   "metadata": {},
   "source": [
    "<div style=\"background-color: lightblue; color: white; padding: 10px; text-align: left; border-radius: 5px;\">\n",
    "    \n",
    "</div>"
   ]
  },
  {
   "cell_type": "markdown",
   "metadata": {
    "id": "-XtIQ0Rti1gm"
   },
   "source": [
    "## Task 2: Demonstrate the effectiveness of the Q-Learning RL agent"
   ]
  },
  {
   "cell_type": "markdown",
   "metadata": {
    "id": "djBEShf0kGI4"
   },
   "source": [
    "Now we'll evaluate our Q-Learning agent by running it for 100 episodes and recording the cumulative reward for each episode. This evaluation will:\n",
    "\n",
    "1. **Test the agent's policy**: We'll use the learned Q-values to select actions\n",
    "2. **Measure performance**: Calculate the average reward over 100 episodes\n",
    "3. **Verify solution**: Check if the average reward exceeds 195, which is the threshold for considering the CartPole problem solved\n",
    "\n",
    "The CartPole environment is considered solved when the agent achieves an average reward of 195 or more over 100 consecutive episodes."
   ]
  },
  {
   "cell_type": "code",
   "execution_count": 17,
   "metadata": {
    "colab": {
     "base_uri": "https://localhost:8080/"
    },
    "id": "pOiOp9OYlo5Y",
    "outputId": "7a02ba7b-ff17-41f2-aa7f-eb50d49a83fd"
   },
   "outputs": [
    {
     "name": "stdout",
     "output_type": "stream",
     "text": [
      "Episodes 1-10: Average reward = 237.50\n",
      "Episodes 11-20: Average reward = 230.90\n",
      "Episodes 21-30: Average reward = 239.10\n",
      "Episodes 31-40: Average reward = 224.70\n",
      "Episodes 41-50: Average reward = 230.10\n",
      "Episodes 51-60: Average reward = 221.20\n",
      "Episodes 61-70: Average reward = 250.60\n",
      "Episodes 71-80: Average reward = 226.10\n",
      "Episodes 81-90: Average reward = 220.50\n",
      "Episodes 91-100: Average reward = 216.90\n"
     ]
    },
    {
     "data": {
      "image/png": "[encoded data removed]",
      "text/plain": [
       "<Figure size 1000x600 with 1 Axes>"
      ]
     },
     "metadata": {},
     "output_type": "display_data"
    },
    {
     "name": "stdout",
     "output_type": "stream",
     "text": [
      "Overall average cumulative reward: 229.76\n",
      "Is my agent good enough? True\n"
     ]
    }
   ],
   "source": [
    "# Task 2: Demonstrate the effectiveness of the RL agent (printing average every 10 episodes)\n",
    "\n",
    "# Play the game for 100 episodes using your Q-learning agent\n",
    "episode_results = []\n",
    "env = gym.make(\"CartPole-v1\")\n",
    "\n",
    "for episode_batch in range(10):  # 10 batches of 10 episodes each\n",
    "    batch_rewards = []\n",
    "    \n",
    "    # Run 10 episodes per batch\n",
    "    for episode in range(10):\n",
    "        observation = env.reset()\n",
    "        observation = list(observation)  # Convert to list as your agent expects\n",
    "        cumulative_reward = 0\n",
    "        done = False\n",
    "        \n",
    "        while not done:\n",
    "            # Get the action from your Q-learning agent\n",
    "            action = selectAction(observation, 8000, False)  # Using low epsilon for exploitation\n",
    "            \n",
    "            # Take the action and observe the result\n",
    "            observation, reward, done, info = env.step(action)\n",
    "            observation = list(observation)  # Convert to list as your agent expects\n",
    "            \n",
    "            # Accumulate reward\n",
    "            cumulative_reward += reward\n",
    "        \n",
    "        # Record the cumulative reward for this episode\n",
    "        batch_rewards.append(cumulative_reward)\n",
    "        episode_results.append(cumulative_reward)\n",
    "    \n",
    "    # Print average reward for this batch of 10 episodes\n",
    "    batch_average = np.mean(batch_rewards)\n",
    "    print(f\"Episodes {episode_batch*10+1}-{(episode_batch+1)*10}: Average reward = {batch_average:.2f}\")\n",
    "\n",
    "# Convert to numpy array for easier analysis\n",
    "episode_results = np.array(episode_results)\n",
    "\n",
    "# Plot the results\n",
    "plt.figure(figsize=(10, 6))\n",
    "plt.plot(episode_results)\n",
    "plt.title('Cumulative reward for each episode')\n",
    "plt.ylabel('Cumulative reward')\n",
    "plt.xlabel('Episode')\n",
    "plt.grid(True)\n",
    "plt.show()\n",
    "\n",
    "# Print overall average reward\n",
    "print(\"Overall average cumulative reward:\", episode_results.mean())\n",
    "print(\"Is my agent good enough?\", episode_results.mean() > 195)\n"
   ]
  },
  {
   "cell_type": "markdown",
   "metadata": {},
   "source": [
    "#### Our Q-Learning agent passes the test!"
   ]
  },
  {
   "cell_type": "markdown",
   "metadata": {},
   "source": [
    "<div style=\"background-color: lightblue; color: white; padding: 10px; text-align: left; border-radius: 5px;\">\n",
    "    \n",
    "</div>"
   ]
  },
  {
   "cell_type": "markdown",
   "metadata": {
    "id": "Yg0DCT38lFA6"
   },
   "source": [
    "## Task 3: Render one episode played by the Q-Learning Agent"
   ]
  },
  {
   "cell_type": "markdown",
   "metadata": {
    "id": "vx1awMr9lc_w"
   },
   "source": [
    "Plug your agent to the code below to obtain rendered result."
   ]
  },
  {
   "cell_type": "code",
   "execution_count": 29,
   "metadata": {
    "colab": {
     "base_uri": "https://localhost:8080/",
     "height": 421
    },
    "id": "LYyavfbIa47D",
    "outputId": "10c2f1e7-f3b9-4975-ed25-7c380966a56c",
    "scrolled": false
   },
   "outputs": [
    {
     "data": {
      "text/html": [
       "<video alt=\"test\" autoplay \n",
       "                loop controls style=\"height: 400px;\">\n",
       "                <source src=\"data:video/mp4;base64,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\" type=\"video/mp4\" />\n",
       "             </video>"
      ],
      "text/plain": [
       "<IPython.core.display.HTML object>"
      ]
     },
     "metadata": {},
     "output_type": "display_data"
    }
   ],
   "source": [
    "# Task 3: Render one episode played by the agent\n",
    "from gym.wrappers import RecordVideo\n",
    "\n",
    "# Create a wrapped environment for video recording\n",
    "env = RecordVideo(gym.make(\"CartPole-v1\"), \"./video\", name_prefix=\"qlearning\")\n",
    "\n",
    "# Reset the environment\n",
    "observation = env.reset()\n",
    "observation = list(observation)  # Convert to list as your agent expects\n",
    "done = False\n",
    "\n",
    "# Run one episode with your trained agent\n",
    "while not done:\n",
    "    env.render()\n",
    "    \n",
    "    # Get action from your Q-learning agent\n",
    "    action = selectAction(observation, 8000, False)  # Using low epsilon for exploitation\n",
    "    \n",
    "    # Take the action and observe the result\n",
    "    observation, reward, done, info = env.step(action)\n",
    "    observation = list(observation)  # Convert to list as your agent expects\n",
    "\n",
    "env.close()\n",
    "\n",
    "# Use your existing show_video function\n",
    "show_video()\n"
   ]
  },
  {
   "cell_type": "markdown",
   "metadata": {},
   "source": [
    "<div style=\"background-color: lightblue; color: white; padding: 10px; text-align: left; border-radius: 5px;\">\n",
    "    \n",
    "</div>"
   ]
  },
  {
   "cell_type": "markdown",
   "metadata": {},
   "source": [
    "# Policy Gradient Agent for CartPole Problem"
   ]
  },
  {
   "cell_type": "markdown",
   "metadata": {},
   "source": [
    "## Policy Gradient Implementation for CartPole\n",
    "\n",
    "This implementation uses a Policy Gradient approach with a baseline value function to solve the CartPole environment. Unlike the Q-learning approach that discretizes the state space, Policy Gradient directly learns a policy function that maps states to action probabilities.\n",
    "\n",
    "### Key Components\n",
    "\n",
    "1. **Neural Network Architecture**\n",
    "   - A small policy network with a single hidden layer of 16 neurons\n",
    "   - ReLU activation for the hidden layer and softmax for the output layer\n",
    "   - Dropout regularization (5%) to prevent overfitting\n",
    "   - A separate value network to estimate state values and reduce variance\n",
    "\n",
    "2. **Hyperparameters**\n",
    "   - Discount factor (gamma): 0.999\n",
    "   - Learning rate: 0.001\n",
    "   - Entropy coefficient: 0.01\n",
    "   - Gradient clipping threshold: 0.5\n",
    "\n",
    "3. **Training Process**\n",
    "   - For each episode:\n",
    "     - Collect trajectory data (states, actions, rewards)\n",
    "     - Calculate discounted returns\n",
    "     - Normalize rewards for training stability\n",
    "     - Update policy network using policy gradients\n",
    "     - Update value network to better estimate state values\n",
    "\n",
    "4. **Advantage Calculation**\n",
    "   - Uses the value network as a baseline to reduce variance\n",
    "   - Advantage = Discounted return - Value estimate\n",
    "   - This helps distinguish good actions from lucky ones\n",
    "\n",
    "5. **Exploration Strategy**\n",
    "   - Uses entropy regularization to encourage exploration\n",
    "   - Samples actions from the policy's probability distribution during training\n",
    "   - Takes the most probable action during evaluation\n",
    "\n",
    "### Mathematical Function\n",
    "\n",
    "The policy gradient method implemented in our solution uses the following core mathematical function:\n",
    "\n",
    "$$\\nabla_\\theta J(\\theta) = \\mathbb{E}_{\\pi_\\theta} [\\nabla_\\theta \\log \\pi_\\theta(s, a) \\cdot A(s, a)]$$\n",
    "\n",
    "Where:\n",
    "- $\\nabla_\\theta J(\\theta)$ is the gradient of the expected return with respect to policy parameters $\\theta$\n",
    "- $\\pi_\\theta$ is our policy network parameterized by $\\theta$\n",
    "- $\\nabla_\\theta \\log \\pi_\\theta(s, a)$ is the score function (gradient of log probability of taking action $a$ in state $s$)\n",
    "- $A(s, a)$ is the advantage function, which we estimate as $R - V(s)$\n",
    "\n",
    "In our implementation, we use a baseline value function to reduce variance, resulting in the following update rule:\n",
    "\n",
    "$$\\theta \\leftarrow \\theta + \\alpha \\cdot \\nabla_\\theta \\log \\pi_\\theta(s, a) \\cdot (R - V(s))$$\n",
    "\n",
    "Where:\n",
    "- $\\alpha$ is the learning rate (0.001 in our implementation)\n",
    "- $R$ is the discounted return calculated as $\\sum_{t=0}^{T} \\gamma^t r_t$ with $\\gamma = 0.999$\n",
    "- $V(s)$ is the baseline value function estimate\n",
    "\n",
    "We also incorporate entropy regularization to encourage exploration:\n",
    "\n",
    "$$L(\\theta) = -\\mathbb{E}_{\\pi_\\theta} [\\log \\pi_\\theta(s, a) \\cdot A(s, a)] - \\beta \\cdot H(\\pi_\\theta)$$\n",
    "\n",
    "Where:\n",
    "- $L(\\theta)$ is the loss function to minimize\n",
    "- $H(\\pi_\\theta)$ is the entropy of the policy\n",
    "- $\\beta$ is the entropy coefficient (0.01 in our implementation)\n",
    "\n",
    "This approach allows us to directly optimize the policy without discretizing the state space, which is more suitable for the continuous state space of the CartPole environment."
   ]
  },
  {
   "cell_type": "markdown",
   "metadata": {},
   "source": [
    "### Advantages Over Q-Learning\n",
    "\n",
    "1. **No Discretization**: Works directly with continuous state spaces\n",
    "2. **Stochastic Policy**: Naturally handles exploration through probability distributions\n",
    "3. **Policy Optimization**: Directly optimizes the policy rather than deriving it from value functions\n",
    "4. **Simpler Architecture**: Effective with smaller networks (16 neurons vs. 30×30×30×30 state-action table)\n",
    "\n",
    "This implementation combines policy gradients with a value baseline (actor-critic style) to achieve stable and efficient learning in the CartPole environment.\n"
   ]
  },
  {
   "cell_type": "markdown",
   "metadata": {},
   "source": [
    "<div style=\"background-color: lightblue; color: white; padding: 10px; text-align: left; border-radius: 5px;\">\n",
    "    \n",
    "</div>"
   ]
  },
  {
   "cell_type": "markdown",
   "metadata": {},
   "source": [
    "### Loading the CartPole Environment"
   ]
  },
  {
   "cell_type": "code",
   "execution_count": 19,
   "metadata": {},
   "outputs": [],
   "source": [
    "env = gym.make('CartPole-v1')"
   ]
  },
  {
   "cell_type": "markdown",
   "metadata": {},
   "source": [
    "### Initialising Parameters"
   ]
  },
  {
   "cell_type": "code",
   "execution_count": 20,
   "metadata": {},
   "outputs": [],
   "source": [
    "# hyperparameter initialisation\n",
    "\n",
    "gamma_PG = 0.999 # discount factor\n",
    "learning_rate_PG = 0.001\n",
    "input_dim_PG = 4 # cartpole state space dimension\n",
    "output_dim_PG = 2 # cartpole action space (either left or right)\n",
    "hidden_size_PG = 16\n",
    "entropy_beta = 0.01\n",
    "dropout_rate = 0.05\n",
    "#max_steps_PG = \n",
    "#update_frequency_PG = "
   ]
  },
  {
   "cell_type": "markdown",
   "metadata": {},
   "source": [
    "### Defining the Policy Network"
   ]
  },
  {
   "cell_type": "code",
   "execution_count": 21,
   "metadata": {},
   "outputs": [],
   "source": [
    "# Define the policy network\n",
    "class PolicyNetwork(tf.keras.Model):\n",
    "    def __init__(self):\n",
    "        super(PolicyNetwork, self).__init__()\n",
    "        self.dense1 = tf.keras.layers.Dense(hidden_size_PG, activation='relu', \n",
    "                                           kernel_initializer=tf.keras.initializers.he_normal())\n",
    "        self.dropout = tf.keras.layers.Dropout(dropout_rate)\n",
    "        self.dense2 = tf.keras.layers.Dense(output_dim_PG, activation=None)\n",
    "        \n",
    "    def call(self, x, training=False):\n",
    "        x = self.dense1(x)\n",
    "        if training:\n",
    "            x = self.dropout(x)\n",
    "        x = self.dense2(x)\n",
    "        return x\n",
    "    \n",
    "    def action_probs(self, x, training=False):\n",
    "        logits = self.call(x, training)\n",
    "        return tf.nn.softmax(logits)\n",
    "\n",
    "# Create policy network and optimizer with learning rate schedule\n",
    "policy_network = PolicyNetwork()\n",
    "\n",
    "lr_schedule = tf.keras.optimizers.schedules.ExponentialDecay(\n",
    "    initial_learning_rate=learning_rate_PG,\n",
    "    decay_steps=1000,\n",
    "    decay_rate=0.95)\n",
    "optimizer = tf.keras.optimizers.Adam(learning_rate=lr_schedule)\n",
    "\n",
    "# Create a baseline value network to reduce variance\n",
    "class ValueNetwork(tf.keras.Model):\n",
    "    def __init__(self):\n",
    "        super(ValueNetwork, self).__init__()\n",
    "        self.dense1 = tf.keras.layers.Dense(hidden_size_PG, activation='relu')\n",
    "        self.dense2 = tf.keras.layers.Dense(1)\n",
    "        \n",
    "    def call(self, x):\n",
    "        x = self.dense1(x)\n",
    "        return self.dense2(x)\n",
    "\n",
    "# Create value network and optimizer\n",
    "value_network = ValueNetwork()\n",
    "value_optimizer = tf.keras.optimizers.Adam(learning_rate=learning_rate_PG)\n"
   ]
  },
  {
   "cell_type": "markdown",
   "metadata": {},
   "source": [
    "### Defining utility functions for Rewards"
   ]
  },
  {
   "cell_type": "code",
   "execution_count": 22,
   "metadata": {},
   "outputs": [],
   "source": [
    "# Define utility functions for rewards\n",
    "# Function to calculate discounted rewards\n",
    "def discount_rewards(rewards):\n",
    "    discounted_rewards = np.zeros_like(rewards, dtype=np.float32)\n",
    "    running_add = 0\n",
    "    for t in reversed(range(len(rewards))):\n",
    "        running_add = running_add * gamma_PG + rewards[t]\n",
    "        discounted_rewards[t] = running_add\n",
    "    return discounted_rewards\n",
    "\n",
    "# Improved reward normalization\n",
    "def normalize_rewards(rewards):\n",
    "    rewards = np.array(rewards)\n",
    "    if len(rewards) > 1:\n",
    "        return (rewards - np.mean(rewards)) / (np.std(rewards) + 1e-8)\n",
    "    return rewards\n"
   ]
  },
  {
   "cell_type": "markdown",
   "metadata": {},
   "source": [
    "### Defining the Training Step Function"
   ]
  },
  {
   "cell_type": "code",
   "execution_count": 23,
   "metadata": {},
   "outputs": [],
   "source": [
    "# Define training step function with baseline and entropy regularization\n",
    "@tf.function\n",
    "def train_step(states, actions, rewards):\n",
    "    with tf.GradientTape() as policy_tape, tf.GradientTape() as value_tape:\n",
    "        # Forward pass through policy network\n",
    "        logits = policy_network(states, training=True)\n",
    "        action_probs = tf.nn.softmax(logits)\n",
    "        \n",
    "        # Forward pass through value network\n",
    "        values = value_network(states)\n",
    "        \n",
    "        # Create a mask for the taken actions\n",
    "        action_masks = tf.one_hot(actions, output_dim_PG)\n",
    "        \n",
    "        # Calculate advantage (rewards - baseline)\n",
    "        advantages = rewards - tf.squeeze(values)\n",
    "        \n",
    "        # Calculate policy loss (negative log probability weighted by advantages)\n",
    "        selected_action_probs = tf.reduce_sum(action_probs * action_masks, axis=1)\n",
    "        log_probs = tf.math.log(selected_action_probs + 1e-10)\n",
    "        policy_loss = -tf.reduce_mean(log_probs * advantages)\n",
    "        \n",
    "        # Add entropy regularization to encourage exploration\n",
    "        entropy = -tf.reduce_mean(tf.reduce_sum(action_probs * tf.math.log(action_probs + 1e-10), axis=1))\n",
    "        policy_loss -= entropy_beta * entropy\n",
    "        \n",
    "        # Calculate value loss (MSE between predicted values and discounted rewards)\n",
    "        value_loss = tf.reduce_mean(tf.square(rewards - tf.squeeze(values)))\n",
    "    \n",
    "    # Calculate gradients and apply clipping\n",
    "    policy_gradients = policy_tape.gradient(policy_loss, policy_network.trainable_variables)\n",
    "    value_gradients = value_tape.gradient(value_loss, value_network.trainable_variables)\n",
    "    \n",
    "    # Clip gradients to prevent large updates\n",
    "    policy_gradients, _ = tf.clip_by_global_norm(policy_gradients, 0.5)\n",
    "    value_gradients, _ = tf.clip_by_global_norm(value_gradients, 0.5)\n",
    "    \n",
    "    # Apply gradients\n",
    "    optimizer.apply_gradients(zip(policy_gradients, policy_network.trainable_variables))\n",
    "    value_optimizer.apply_gradients(zip(value_gradients, value_network.trainable_variables))\n",
    "    \n",
    "    return policy_loss, value_loss, entropy\n"
   ]
  },
  {
   "cell_type": "markdown",
   "metadata": {},
   "source": [
    "### Defining the Training Loop Function"
   ]
  },
  {
   "cell_type": "code",
   "execution_count": 24,
   "metadata": {},
   "outputs": [],
   "source": [
    "# Define training loop function\n",
    "def train_policy_gradient(num_episodes=2000, render_frequency=None):\n",
    "    episode_rewards = []\n",
    "    avg_rewards_list = []\n",
    "    \n",
    "    for episode in range(num_episodes):\n",
    "        # Reset environment\n",
    "        state = env.reset()\n",
    "        if isinstance(state, tuple):\n",
    "            state = state[0]  # Handle newer gym versions\n",
    "        \n",
    "        # Initialize episode data\n",
    "        states = []\n",
    "        actions = []\n",
    "        rewards = []\n",
    "        episode_reward = 0\n",
    "        done = False\n",
    "        \n",
    "        # Run one episode\n",
    "        while not done:\n",
    "            # Render environment occasionally if specified\n",
    "            if render_frequency and episode % render_frequency == 0:\n",
    "                env.render()\n",
    "            \n",
    "            # Get action probabilities from policy network\n",
    "            state_tensor = tf.convert_to_tensor([state], dtype=tf.float32)\n",
    "            action_probs = tf.nn.softmax(policy_network(state_tensor))[0].numpy()\n",
    "            \n",
    "            # Sample action from probability distribution\n",
    "            action = np.random.choice(output_dim_PG, p=action_probs)\n",
    "            \n",
    "            # Take action in environment\n",
    "            next_state, reward, done, *_ = env.step(action)\n",
    "            \n",
    "            # Store step data\n",
    "            states.append(state)\n",
    "            actions.append(action)\n",
    "            rewards.append(reward)\n",
    "            episode_reward += reward\n",
    "            \n",
    "            # Update state\n",
    "            state = next_state\n",
    "        \n",
    "        # Process episode data\n",
    "        episode_rewards.append(episode_reward)\n",
    "        \n",
    "        # Calculate discounted and normalized rewards\n",
    "        discounted_rewards = discount_rewards(rewards)\n",
    "        normalized_rewards = normalize_rewards(discounted_rewards)\n",
    "        \n",
    "        # Convert to tensors\n",
    "        states_tensor = tf.convert_to_tensor(states, dtype=tf.float32)\n",
    "        actions_tensor = tf.convert_to_tensor(actions, dtype=tf.int32)\n",
    "        rewards_tensor = tf.convert_to_tensor(normalized_rewards, dtype=tf.float32)\n",
    "        \n",
    "        # Update policy network\n",
    "        policy_loss, value_loss, entropy = train_step(states_tensor, actions_tensor, rewards_tensor)\n",
    "        \n",
    "        # Track progress\n",
    "        if (episode + 1) % 100 == 0:\n",
    "            avg_reward = np.mean(episode_rewards[-100:])\n",
    "            avg_rewards_list.append(avg_reward)\n",
    "            print(f\"Episode {episode + 1}: Average reward over last 100 episodes = {avg_reward:.2f}\")\n",
    "            \n",
    "            # Check if environment is solved, give buffer\n",
    "            if avg_reward >= 300.0 and episode >= 100:\n",
    "                print(f\"Environment solved in {episode + 1} episodes!\")\n",
    "                break\n",
    "    \n",
    "    return episode_rewards, avg_rewards_list\n"
   ]
  },
  {
   "cell_type": "markdown",
   "metadata": {},
   "source": [
    "### Training the Policy Gradient Agent"
   ]
  },
  {
   "cell_type": "code",
   "execution_count": 25,
   "metadata": {
    "scrolled": false
   },
   "outputs": [
    {
     "name": "stderr",
     "output_type": "stream",
     "text": [
      "C:\\Users\\kejun\\anaconda3\\Lib\\site-packages\\keras\\src\\layers\\layer.py:361: UserWarning: `build()` was called on layer 'policy_network', however the layer does not have a `build()` method implemented and it looks like it has unbuilt state. This will cause the layer to be marked as built, despite not being actually built, which may cause failures down the line. Make sure to implement a proper `build()` method.\n",
      "  warnings.warn(\n"
     ]
    },
    {
     "name": "stdout",
     "output_type": "stream",
     "text": [
      "WARNING:tensorflow:5 out of the last 5 calls to <function train_step at 0x00000206CDAA8400> triggered tf.function retracing. Tracing is expensive and the excessive number of tracings could be due to (1) creating @tf.function repeatedly in a loop, (2) passing tensors with different shapes, (3) passing Python objects instead of tensors. For (1), please define your @tf.function outside of the loop. For (2), @tf.function has reduce_retracing=True option that can avoid unnecessary retracing. For (3), please refer to https://www.tensorflow.org/guide/function#controlling_retracing and https://www.tensorflow.org/api_docs/python/tf/function for  more details.\n",
      "WARNING:tensorflow:6 out of the last 6 calls to <function train_step at 0x00000206CDAA8400> triggered tf.function retracing. Tracing is expensive and the excessive number of tracings could be due to (1) creating @tf.function repeatedly in a loop, (2) passing tensors with different shapes, (3) passing Python objects instead of tensors. For (1), please define your @tf.function outside of the loop. For (2), @tf.function has reduce_retracing=True option that can avoid unnecessary retracing. For (3), please refer to https://www.tensorflow.org/guide/function#controlling_retracing and https://www.tensorflow.org/api_docs/python/tf/function for  more details.\n",
      "Episode 100: Average reward over last 100 episodes = 49.49\n",
      "Episode 200: Average reward over last 100 episodes = 55.74\n",
      "Episode 300: Average reward over last 100 episodes = 65.84\n",
      "Episode 400: Average reward over last 100 episodes = 74.88\n",
      "Episode 500: Average reward over last 100 episodes = 92.45\n",
      "Episode 600: Average reward over last 100 episodes = 96.93\n",
      "Episode 700: Average reward over last 100 episodes = 112.32\n",
      "Episode 800: Average reward over last 100 episodes = 148.56\n",
      "Episode 900: Average reward over last 100 episodes = 167.34\n",
      "Episode 1000: Average reward over last 100 episodes = 171.06\n",
      "Episode 1100: Average reward over last 100 episodes = 187.43\n",
      "Episode 1200: Average reward over last 100 episodes = 223.41\n",
      "Episode 1300: Average reward over last 100 episodes = 214.44\n",
      "Episode 1400: Average reward over last 100 episodes = 252.00\n",
      "Episode 1500: Average reward over last 100 episodes = 268.50\n",
      "Episode 1600: Average reward over last 100 episodes = 317.08\n",
      "Environment solved in 1600 episodes!\n"
     ]
    },
    {
     "data": {
      "image/png": "[encoded data removed]",
      "text/plain": [
       "<Figure size 1200x600 with 2 Axes>"
      ]
     },
     "metadata": {},
     "output_type": "display_data"
    }
   ],
   "source": [
    "# Train the agent\n",
    "episode_rewards, avg_rewards = train_policy_gradient(num_episodes=2000)\n",
    "\n",
    "# Plot training results\n",
    "plt.figure(figsize=(12, 6))\n",
    "plt.subplot(1, 2, 1)\n",
    "plt.plot(episode_rewards)\n",
    "plt.title('Reward per Episode')\n",
    "plt.xlabel('Episode')\n",
    "plt.ylabel('Reward')\n",
    "plt.grid(True)\n",
    "\n",
    "plt.subplot(1, 2, 2)\n",
    "plt.plot(range(10, len(avg_rewards)*10 + 1, 10), avg_rewards)\n",
    "plt.title('Average Reward (over 100 episodes)')\n",
    "plt.xlabel('Episode')\n",
    "plt.ylabel('Average Reward')\n",
    "plt.grid(True)\n",
    "plt.tight_layout()\n",
    "plt.show()\n"
   ]
  },
  {
   "cell_type": "markdown",
   "metadata": {},
   "source": [
    "<div style=\"background-color: lightblue; color: white; padding: 10px; text-align: left; border-radius: 5px;\">\n",
    "    \n",
    "</div>"
   ]
  },
  {
   "cell_type": "markdown",
   "metadata": {},
   "source": [
    "## Task 2: Testing the Effectiveness of Policy Gradient Agent"
   ]
  },
  {
   "cell_type": "code",
   "execution_count": 26,
   "metadata": {},
   "outputs": [],
   "source": [
    "def test_policy_gradient(num_episodes=100):\n",
    "    test_rewards = []\n",
    "    \n",
    "    for episode in range(num_episodes):\n",
    "        state = env.reset()\n",
    "        if isinstance(state, tuple):\n",
    "            state = state[0]\n",
    "            \n",
    "        episode_reward = 0\n",
    "        done = False\n",
    "        \n",
    "        while not done:\n",
    "            # Get action probabilities\n",
    "            state_tensor = tf.convert_to_tensor([state], dtype=tf.float32)\n",
    "            action_probs = policy_network(state_tensor)[0].numpy()\n",
    "            \n",
    "            # Take most probable action (no exploration during testing)\n",
    "            action = np.argmax(action_probs)\n",
    "            \n",
    "            # Take action in environment\n",
    "            state, reward, done, *_ = env.step(action)\n",
    "            episode_reward += reward\n",
    "        \n",
    "        test_rewards.append(episode_reward)\n",
    "        \n",
    "    # Calculate average reward\n",
    "    avg_reward = np.mean(test_rewards)\n",
    "    print(f\"Average test reward over {num_episodes} episodes: {avg_reward:.2f}\")\n",
    "    print(f\"Is agent good enough? {avg_reward > 195}\")\n",
    "    \n",
    "    # Plot test rewards\n",
    "    plt.figure(figsize=(10, 6))\n",
    "    plt.plot(test_rewards)\n",
    "    plt.title('Test Rewards')\n",
    "    plt.xlabel('Episode')\n",
    "    plt.ylabel('Reward')\n",
    "    plt.grid(True)\n",
    "    plt.show()\n",
    "    \n",
    "    return test_rewards\n"
   ]
  },
  {
   "cell_type": "code",
   "execution_count": 27,
   "metadata": {
    "scrolled": false
   },
   "outputs": [
    {
     "name": "stdout",
     "output_type": "stream",
     "text": [
      "Average test reward over 100 episodes: 493.67\n",
      "Is agent good enough? True\n"
     ]
    },
    {
     "data": {
      "image/png": "[encoded data removed]",
      "text/plain": [
       "<Figure size 1000x600 with 1 Axes>"
      ]
     },
     "metadata": {},
     "output_type": "display_data"
    }
   ],
   "source": [
    "# testing the agent\n",
    "test_rewards = test_policy_gradient(100)\n"
   ]
  },
  {
   "cell_type": "markdown",
   "metadata": {},
   "source": [
    "#### Our Q-Learning agent passes the test!\n",
    "\n",
    "As per the results above, we can see that our Policy Gradient agent \"passes\" the test in Task 2 with flying colours, clocking in an average cumulative reward of **493.67** over 100 episodes played. We can also see that our Policy Gradient agent hits the maximum cumulative reward ceiling of 500 multiple times, which proves that it is a superb reinforcement learning agent."
   ]
  },
  {
   "cell_type": "markdown",
   "metadata": {},
   "source": [
    "<div style=\"background-color: lightblue; color: white; padding: 10px; text-align: left; border-radius: 5px;\">\n",
    "    \n",
    "</div>"
   ]
  },
  {
   "cell_type": "markdown",
   "metadata": {},
   "source": [
    "## Task 3: Render one episode played by the Policy Gradient Agent"
   ]
  },
  {
   "cell_type": "code",
   "execution_count": 30,
   "metadata": {},
   "outputs": [
    {
     "data": {
      "text/html": [
       "<video alt=\"test\" autoplay \n",
       "                loop controls style=\"height: 400px;\">\n",
       "                <source src=\"data:video/mp4;base64,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\" type=\"video/mp4\" />\n",
       "             </video>"
      ],
      "text/plain": [
       "<IPython.core.display.HTML object>"
      ]
     },
     "metadata": {},
     "output_type": "display_data"
    }
   ],
   "source": [
    "#Render one episode played by the agent\n",
    "from gym.wrappers import RecordVideo\n",
    "\n",
    "# Create a wrapped environment for video recording\n",
    "env = RecordVideo(gym.make(\"CartPole-v1\"), \"./video\", name_prefix=\"policy_gradient\")\n",
    "\n",
    "# Reset the environment\n",
    "observation = env.reset()\n",
    "if isinstance(observation, tuple):\n",
    "    observation = observation[0]  # Handle newer gym versions\n",
    "done = False\n",
    "\n",
    "# Run one episode with your trained agent\n",
    "while not done:\n",
    "    env.render()\n",
    "    \n",
    "    # Get action from your Policy Gradient agent\n",
    "    state_tensor = tf.convert_to_tensor([observation], dtype=tf.float32)\n",
    "    action_probs = policy_network(state_tensor)[0].numpy()\n",
    "    action = np.argmax(action_probs)  # Take most probable action during testing\n",
    "    \n",
    "    # Take the action and observe the result\n",
    "    observation, reward, done, info = env.step(action)\n",
    "    if isinstance(observation, tuple):\n",
    "        observation = observation[0]\n",
    "\n",
    "env.close()\n",
    "\n",
    "# Use your existing show_video function\n",
    "show_video()\n"
   ]
  },
  {
   "cell_type": "markdown",
   "metadata": {},
   "source": [
    "<div style=\"background-color: lightblue; color: white; padding: 10px; text-align: left; border-radius: 5px;\">\n",
    "    \n",
    "</div>"
   ]
  },
  {
   "cell_type": "code",
   "execution_count": null,
   "metadata": {},
   "outputs": [],
   "source": []
  },
  {
   "cell_type": "markdown",
   "metadata": {},
   "source": [
    "*Note: Typo(s)*\n",
    "- For Cell 25, plot title \"Average Reward (over 10 episodes)\" should be Average Reward (over 100 episodes) instead.\n",
    "- For Cell 25, x-axis for the same plot, episode results are from episode 0 to 1600, not 0 to 160."
   ]
  },
  {
   "cell_type": "markdown",
   "metadata": {},
   "source": [
    "## Thank You for Reading!\n",
    "\n",
    "Do feel free to contact me @ YE0003UN@e.ntu.edu.sg if the code is unable to run on your local machine, or if you have any queries. Thank You!\n"
   ]
  },
  {
   "cell_type": "code",
   "execution_count": null,
   "metadata": {},
   "outputs": [],
   "source": []
  }
 ],
 "metadata": {
  "colab": {
   "authorship_tag": "ABX9TyNczA+lJQOKjOo4XtzYjWQc",
   "include_colab_link": true,
   "provenance": []
  },
  "kernelspec": {
   "display_name": "Python 3 (ipykernel)",
   "language": "python",
   "name": "python3"
  },
  "language_info": {
   "codemirror_mode": {
    "name": "ipython",
    "version": 3
   },
   "file_extension": ".py",
   "mimetype": "text/x-python",
   "name": "python",
   "nbconvert_exporter": "python",
   "pygments_lexer": "ipython3",
   "version": "3.11.5"
  }
 },
 "nbformat": 4,
 "nbformat_minor": 1
}
